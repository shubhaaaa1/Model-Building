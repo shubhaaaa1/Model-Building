{
 "cells": [
  {
   "cell_type": "markdown",
   "id": "44801a45",
   "metadata": {},
   "source": [
    "In this Project , We Are diving into The deep learning. Now we will build our own Perceptron from the Scratch"
   ]
  },
  {
   "cell_type": "markdown",
   "id": "c8aa705b",
   "metadata": {},
   "source": [
    "Perceptrons are the basic artificial Neural network model which takes input from the input layer and give weightage to the inputs accordingly and Then applies activation function to it to classify the class binarily mostly"
   ]
  },
  {
   "cell_type": "markdown",
   "id": "80cc420b",
   "metadata": {},
   "source": [
    "Importing Dependencies"
   ]
  },
  {
   "cell_type": "code",
   "execution_count": 333,
   "id": "d39fc3aa",
   "metadata": {},
   "outputs": [],
   "source": [
    "import numpy as np"
   ]
  },
  {
   "cell_type": "markdown",
   "id": "6afd64c6",
   "metadata": {},
   "source": [
    "Sigmoid Perceptron Class Model Building :- "
   ]
  },
  {
   "cell_type": "code",
   "execution_count": 334,
   "id": "6024dee2",
   "metadata": {},
   "outputs": [],
   "source": [
    "class SigmoidPerceptron():\n",
    "\n",
    "    def __init__(self,input_size): \n",
    "        self.weights = np.random.randn(input_size)\n",
    "        self.bias = np.random.randn(1)\n",
    "\n",
    "    def sigmoid(self,z):\n",
    "        return 1 / (1 + np.exp(-z))\n",
    "\n",
    "\n",
    "    def predict(self,inputs):\n",
    "        weighted_sum = np.dot(inputs ,self.weights)\n",
    "        return self.sigmoid(weighted_sum)\n",
    "\n",
    "    \n",
    "    def fit(self,inputs,targets,learning_rate,num_epochs):\n",
    "        num_example = inputs.shape[0]\n",
    "        for epoch in range(num_epochs):\n",
    "            for i in range(num_example):\n",
    "                input_vector = inputs[i]\n",
    "                target = targets[i]\n",
    "\n",
    "                prediction = self.predict(input_vector)\n",
    "                error = target - prediction\n",
    "                 \n",
    "                #updating weights \n",
    "                gw = error * prediction * (1 - prediction) * input_vector\n",
    "                self.weights += learning_rate*gw\n",
    "\n",
    "                #updating bias \n",
    "                gb = error * prediction *(1- prediction)\n",
    "                self.bias += learning_rate*gb\n",
    "\n",
    "\n",
    "\n",
    "    def evaluate(self,inputs,targets):\n",
    "        correct = 0\n",
    "\n",
    "        for input_vector, target in zip (inputs,targets):\n",
    "            prediction = self.predict(input_vector)\n",
    "\n",
    "            if prediction>=0.5:\n",
    "                pred = 1\n",
    "            else :\n",
    "                pred = 0\n",
    "\n",
    "            if pred == target:\n",
    "                correct +=1\n",
    "\n",
    "        accuracy = correct/ len(inputs)\n",
    "        return accuracy\n",
    "        \n",
    "    "
   ]
  },
  {
   "cell_type": "markdown",
   "id": "06a7da32",
   "metadata": {},
   "source": [
    "Model Class Implementation"
   ]
  },
  {
   "cell_type": "code",
   "execution_count": 335,
   "id": "4b463886",
   "metadata": {},
   "outputs": [],
   "source": [
    "#importing dependencies \n",
    "import pandas as pd\n",
    "from sklearn.model_selection import train_test_split, cross_val_score, GridSearchCV\n",
    "from sklearn.preprocessing import StandardScaler"
   ]
  },
  {
   "cell_type": "code",
   "execution_count": 336,
   "id": "93e690fd",
   "metadata": {},
   "outputs": [],
   "source": [
    "data = pd.read_csv('diabetes.csv')"
   ]
  },
  {
   "cell_type": "code",
   "execution_count": 337,
   "id": "f3a5c39c",
   "metadata": {},
   "outputs": [
    {
     "data": {
      "text/html": [
       "<div>\n",
       "<style scoped>\n",
       "    .dataframe tbody tr th:only-of-type {\n",
       "        vertical-align: middle;\n",
       "    }\n",
       "\n",
       "    .dataframe tbody tr th {\n",
       "        vertical-align: top;\n",
       "    }\n",
       "\n",
       "    .dataframe thead th {\n",
       "        text-align: right;\n",
       "    }\n",
       "</style>\n",
       "<table border=\"1\" class=\"dataframe\">\n",
       "  <thead>\n",
       "    <tr style=\"text-align: right;\">\n",
       "      <th></th>\n",
       "      <th>Pregnancies</th>\n",
       "      <th>Glucose</th>\n",
       "      <th>BloodPressure</th>\n",
       "      <th>SkinThickness</th>\n",
       "      <th>Insulin</th>\n",
       "      <th>BMI</th>\n",
       "      <th>DiabetesPedigreeFunction</th>\n",
       "      <th>Age</th>\n",
       "      <th>Outcome</th>\n",
       "    </tr>\n",
       "  </thead>\n",
       "  <tbody>\n",
       "    <tr>\n",
       "      <th>0</th>\n",
       "      <td>6</td>\n",
       "      <td>148</td>\n",
       "      <td>72</td>\n",
       "      <td>35</td>\n",
       "      <td>0</td>\n",
       "      <td>33.6</td>\n",
       "      <td>0.627</td>\n",
       "      <td>50</td>\n",
       "      <td>1</td>\n",
       "    </tr>\n",
       "    <tr>\n",
       "      <th>1</th>\n",
       "      <td>1</td>\n",
       "      <td>85</td>\n",
       "      <td>66</td>\n",
       "      <td>29</td>\n",
       "      <td>0</td>\n",
       "      <td>26.6</td>\n",
       "      <td>0.351</td>\n",
       "      <td>31</td>\n",
       "      <td>0</td>\n",
       "    </tr>\n",
       "    <tr>\n",
       "      <th>2</th>\n",
       "      <td>8</td>\n",
       "      <td>183</td>\n",
       "      <td>64</td>\n",
       "      <td>0</td>\n",
       "      <td>0</td>\n",
       "      <td>23.3</td>\n",
       "      <td>0.672</td>\n",
       "      <td>32</td>\n",
       "      <td>1</td>\n",
       "    </tr>\n",
       "    <tr>\n",
       "      <th>3</th>\n",
       "      <td>1</td>\n",
       "      <td>89</td>\n",
       "      <td>66</td>\n",
       "      <td>23</td>\n",
       "      <td>94</td>\n",
       "      <td>28.1</td>\n",
       "      <td>0.167</td>\n",
       "      <td>21</td>\n",
       "      <td>0</td>\n",
       "    </tr>\n",
       "    <tr>\n",
       "      <th>4</th>\n",
       "      <td>0</td>\n",
       "      <td>137</td>\n",
       "      <td>40</td>\n",
       "      <td>35</td>\n",
       "      <td>168</td>\n",
       "      <td>43.1</td>\n",
       "      <td>2.288</td>\n",
       "      <td>33</td>\n",
       "      <td>1</td>\n",
       "    </tr>\n",
       "  </tbody>\n",
       "</table>\n",
       "</div>"
      ],
      "text/plain": [
       "   Pregnancies  Glucose  BloodPressure  SkinThickness  Insulin   BMI  \\\n",
       "0            6      148             72             35        0  33.6   \n",
       "1            1       85             66             29        0  26.6   \n",
       "2            8      183             64              0        0  23.3   \n",
       "3            1       89             66             23       94  28.1   \n",
       "4            0      137             40             35      168  43.1   \n",
       "\n",
       "   DiabetesPedigreeFunction  Age  Outcome  \n",
       "0                     0.627   50        1  \n",
       "1                     0.351   31        0  \n",
       "2                     0.672   32        1  \n",
       "3                     0.167   21        0  \n",
       "4                     2.288   33        1  "
      ]
     },
     "execution_count": 337,
     "metadata": {},
     "output_type": "execute_result"
    }
   ],
   "source": [
    "data.head()"
   ]
  },
  {
   "cell_type": "code",
   "execution_count": 338,
   "id": "c68736db",
   "metadata": {},
   "outputs": [
    {
     "data": {
      "text/plain": [
       "(768, 9)"
      ]
     },
     "execution_count": 338,
     "metadata": {},
     "output_type": "execute_result"
    }
   ],
   "source": [
    "data.shape"
   ]
  },
  {
   "cell_type": "code",
   "execution_count": 339,
   "id": "9350d0bb",
   "metadata": {},
   "outputs": [
    {
     "name": "stdout",
     "output_type": "stream",
     "text": [
      "<class 'pandas.core.frame.DataFrame'>\n",
      "RangeIndex: 768 entries, 0 to 767\n",
      "Data columns (total 9 columns):\n",
      " #   Column                    Non-Null Count  Dtype  \n",
      "---  ------                    --------------  -----  \n",
      " 0   Pregnancies               768 non-null    int64  \n",
      " 1   Glucose                   768 non-null    int64  \n",
      " 2   BloodPressure             768 non-null    int64  \n",
      " 3   SkinThickness             768 non-null    int64  \n",
      " 4   Insulin                   768 non-null    int64  \n",
      " 5   BMI                       768 non-null    float64\n",
      " 6   DiabetesPedigreeFunction  768 non-null    float64\n",
      " 7   Age                       768 non-null    int64  \n",
      " 8   Outcome                   768 non-null    int64  \n",
      "dtypes: float64(2), int64(7)\n",
      "memory usage: 54.1 KB\n"
     ]
    }
   ],
   "source": [
    "data.info()"
   ]
  },
  {
   "cell_type": "code",
   "execution_count": 340,
   "id": "270641ef",
   "metadata": {},
   "outputs": [
    {
     "data": {
      "text/html": [
       "<div>\n",
       "<style scoped>\n",
       "    .dataframe tbody tr th:only-of-type {\n",
       "        vertical-align: middle;\n",
       "    }\n",
       "\n",
       "    .dataframe tbody tr th {\n",
       "        vertical-align: top;\n",
       "    }\n",
       "\n",
       "    .dataframe thead th {\n",
       "        text-align: right;\n",
       "    }\n",
       "</style>\n",
       "<table border=\"1\" class=\"dataframe\">\n",
       "  <thead>\n",
       "    <tr style=\"text-align: right;\">\n",
       "      <th></th>\n",
       "      <th>Pregnancies</th>\n",
       "      <th>Glucose</th>\n",
       "      <th>BloodPressure</th>\n",
       "      <th>SkinThickness</th>\n",
       "      <th>Insulin</th>\n",
       "      <th>BMI</th>\n",
       "      <th>DiabetesPedigreeFunction</th>\n",
       "      <th>Age</th>\n",
       "      <th>Outcome</th>\n",
       "    </tr>\n",
       "  </thead>\n",
       "  <tbody>\n",
       "    <tr>\n",
       "      <th>count</th>\n",
       "      <td>768.000000</td>\n",
       "      <td>768.000000</td>\n",
       "      <td>768.000000</td>\n",
       "      <td>768.000000</td>\n",
       "      <td>768.000000</td>\n",
       "      <td>768.000000</td>\n",
       "      <td>768.000000</td>\n",
       "      <td>768.000000</td>\n",
       "      <td>768.000000</td>\n",
       "    </tr>\n",
       "    <tr>\n",
       "      <th>mean</th>\n",
       "      <td>3.845052</td>\n",
       "      <td>120.894531</td>\n",
       "      <td>69.105469</td>\n",
       "      <td>20.536458</td>\n",
       "      <td>79.799479</td>\n",
       "      <td>31.992578</td>\n",
       "      <td>0.471876</td>\n",
       "      <td>33.240885</td>\n",
       "      <td>0.348958</td>\n",
       "    </tr>\n",
       "    <tr>\n",
       "      <th>std</th>\n",
       "      <td>3.369578</td>\n",
       "      <td>31.972618</td>\n",
       "      <td>19.355807</td>\n",
       "      <td>15.952218</td>\n",
       "      <td>115.244002</td>\n",
       "      <td>7.884160</td>\n",
       "      <td>0.331329</td>\n",
       "      <td>11.760232</td>\n",
       "      <td>0.476951</td>\n",
       "    </tr>\n",
       "    <tr>\n",
       "      <th>min</th>\n",
       "      <td>0.000000</td>\n",
       "      <td>0.000000</td>\n",
       "      <td>0.000000</td>\n",
       "      <td>0.000000</td>\n",
       "      <td>0.000000</td>\n",
       "      <td>0.000000</td>\n",
       "      <td>0.078000</td>\n",
       "      <td>21.000000</td>\n",
       "      <td>0.000000</td>\n",
       "    </tr>\n",
       "    <tr>\n",
       "      <th>25%</th>\n",
       "      <td>1.000000</td>\n",
       "      <td>99.000000</td>\n",
       "      <td>62.000000</td>\n",
       "      <td>0.000000</td>\n",
       "      <td>0.000000</td>\n",
       "      <td>27.300000</td>\n",
       "      <td>0.243750</td>\n",
       "      <td>24.000000</td>\n",
       "      <td>0.000000</td>\n",
       "    </tr>\n",
       "    <tr>\n",
       "      <th>50%</th>\n",
       "      <td>3.000000</td>\n",
       "      <td>117.000000</td>\n",
       "      <td>72.000000</td>\n",
       "      <td>23.000000</td>\n",
       "      <td>30.500000</td>\n",
       "      <td>32.000000</td>\n",
       "      <td>0.372500</td>\n",
       "      <td>29.000000</td>\n",
       "      <td>0.000000</td>\n",
       "    </tr>\n",
       "    <tr>\n",
       "      <th>75%</th>\n",
       "      <td>6.000000</td>\n",
       "      <td>140.250000</td>\n",
       "      <td>80.000000</td>\n",
       "      <td>32.000000</td>\n",
       "      <td>127.250000</td>\n",
       "      <td>36.600000</td>\n",
       "      <td>0.626250</td>\n",
       "      <td>41.000000</td>\n",
       "      <td>1.000000</td>\n",
       "    </tr>\n",
       "    <tr>\n",
       "      <th>max</th>\n",
       "      <td>17.000000</td>\n",
       "      <td>199.000000</td>\n",
       "      <td>122.000000</td>\n",
       "      <td>99.000000</td>\n",
       "      <td>846.000000</td>\n",
       "      <td>67.100000</td>\n",
       "      <td>2.420000</td>\n",
       "      <td>81.000000</td>\n",
       "      <td>1.000000</td>\n",
       "    </tr>\n",
       "  </tbody>\n",
       "</table>\n",
       "</div>"
      ],
      "text/plain": [
       "       Pregnancies     Glucose  BloodPressure  SkinThickness     Insulin  \\\n",
       "count   768.000000  768.000000     768.000000     768.000000  768.000000   \n",
       "mean      3.845052  120.894531      69.105469      20.536458   79.799479   \n",
       "std       3.369578   31.972618      19.355807      15.952218  115.244002   \n",
       "min       0.000000    0.000000       0.000000       0.000000    0.000000   \n",
       "25%       1.000000   99.000000      62.000000       0.000000    0.000000   \n",
       "50%       3.000000  117.000000      72.000000      23.000000   30.500000   \n",
       "75%       6.000000  140.250000      80.000000      32.000000  127.250000   \n",
       "max      17.000000  199.000000     122.000000      99.000000  846.000000   \n",
       "\n",
       "              BMI  DiabetesPedigreeFunction         Age     Outcome  \n",
       "count  768.000000                768.000000  768.000000  768.000000  \n",
       "mean    31.992578                  0.471876   33.240885    0.348958  \n",
       "std      7.884160                  0.331329   11.760232    0.476951  \n",
       "min      0.000000                  0.078000   21.000000    0.000000  \n",
       "25%     27.300000                  0.243750   24.000000    0.000000  \n",
       "50%     32.000000                  0.372500   29.000000    0.000000  \n",
       "75%     36.600000                  0.626250   41.000000    1.000000  \n",
       "max     67.100000                  2.420000   81.000000    1.000000  "
      ]
     },
     "execution_count": 340,
     "metadata": {},
     "output_type": "execute_result"
    }
   ],
   "source": [
    "data.describe()"
   ]
  },
  {
   "cell_type": "code",
   "execution_count": 341,
   "id": "49e1e7fb",
   "metadata": {},
   "outputs": [
    {
     "data": {
      "text/plain": [
       "Pregnancies                 0\n",
       "Glucose                     0\n",
       "BloodPressure               0\n",
       "SkinThickness               0\n",
       "Insulin                     0\n",
       "BMI                         0\n",
       "DiabetesPedigreeFunction    0\n",
       "Age                         0\n",
       "Outcome                     0\n",
       "dtype: int64"
      ]
     },
     "execution_count": 341,
     "metadata": {},
     "output_type": "execute_result"
    }
   ],
   "source": [
    "data.isnull().sum()"
   ]
  },
  {
   "cell_type": "code",
   "execution_count": 342,
   "id": "0948b559",
   "metadata": {},
   "outputs": [
    {
     "data": {
      "text/plain": [
       "Outcome\n",
       "0    500\n",
       "1    268\n",
       "Name: count, dtype: int64"
      ]
     },
     "execution_count": 342,
     "metadata": {},
     "output_type": "execute_result"
    }
   ],
   "source": [
    "data['Outcome'].value_counts()"
   ]
  },
  {
   "cell_type": "markdown",
   "id": "6d4b5cb3",
   "metadata": {},
   "source": [
    "data sampling"
   ]
  },
  {
   "cell_type": "code",
   "execution_count": 343,
   "id": "aec4bba3",
   "metadata": {},
   "outputs": [],
   "source": [
    "df_class0 = data[data['Outcome']==0]\n",
    "df_class1 = data[data['Outcome']==1]\n",
    "\n",
    "df_class0 = df_class0.sample(268)\n"
   ]
  },
  {
   "cell_type": "code",
   "execution_count": 344,
   "id": "d79645e8",
   "metadata": {},
   "outputs": [],
   "source": [
    "data = pd.concat([df_class0,df_class1])"
   ]
  },
  {
   "cell_type": "code",
   "execution_count": 345,
   "id": "f9657649",
   "metadata": {},
   "outputs": [
    {
     "data": {
      "text/html": [
       "<div>\n",
       "<style scoped>\n",
       "    .dataframe tbody tr th:only-of-type {\n",
       "        vertical-align: middle;\n",
       "    }\n",
       "\n",
       "    .dataframe tbody tr th {\n",
       "        vertical-align: top;\n",
       "    }\n",
       "\n",
       "    .dataframe thead th {\n",
       "        text-align: right;\n",
       "    }\n",
       "</style>\n",
       "<table border=\"1\" class=\"dataframe\">\n",
       "  <thead>\n",
       "    <tr style=\"text-align: right;\">\n",
       "      <th></th>\n",
       "      <th>Pregnancies</th>\n",
       "      <th>Glucose</th>\n",
       "      <th>BloodPressure</th>\n",
       "      <th>SkinThickness</th>\n",
       "      <th>Insulin</th>\n",
       "      <th>BMI</th>\n",
       "      <th>DiabetesPedigreeFunction</th>\n",
       "      <th>Age</th>\n",
       "      <th>Outcome</th>\n",
       "    </tr>\n",
       "  </thead>\n",
       "  <tbody>\n",
       "    <tr>\n",
       "      <th>418</th>\n",
       "      <td>1</td>\n",
       "      <td>83</td>\n",
       "      <td>68</td>\n",
       "      <td>0</td>\n",
       "      <td>0</td>\n",
       "      <td>18.2</td>\n",
       "      <td>0.624</td>\n",
       "      <td>27</td>\n",
       "      <td>0</td>\n",
       "    </tr>\n",
       "    <tr>\n",
       "      <th>373</th>\n",
       "      <td>2</td>\n",
       "      <td>105</td>\n",
       "      <td>58</td>\n",
       "      <td>40</td>\n",
       "      <td>94</td>\n",
       "      <td>34.9</td>\n",
       "      <td>0.225</td>\n",
       "      <td>25</td>\n",
       "      <td>0</td>\n",
       "    </tr>\n",
       "    <tr>\n",
       "      <th>508</th>\n",
       "      <td>2</td>\n",
       "      <td>84</td>\n",
       "      <td>50</td>\n",
       "      <td>23</td>\n",
       "      <td>76</td>\n",
       "      <td>30.4</td>\n",
       "      <td>0.968</td>\n",
       "      <td>21</td>\n",
       "      <td>0</td>\n",
       "    </tr>\n",
       "    <tr>\n",
       "      <th>233</th>\n",
       "      <td>4</td>\n",
       "      <td>122</td>\n",
       "      <td>68</td>\n",
       "      <td>0</td>\n",
       "      <td>0</td>\n",
       "      <td>35.0</td>\n",
       "      <td>0.394</td>\n",
       "      <td>29</td>\n",
       "      <td>0</td>\n",
       "    </tr>\n",
       "    <tr>\n",
       "      <th>501</th>\n",
       "      <td>3</td>\n",
       "      <td>84</td>\n",
       "      <td>72</td>\n",
       "      <td>32</td>\n",
       "      <td>0</td>\n",
       "      <td>37.2</td>\n",
       "      <td>0.267</td>\n",
       "      <td>28</td>\n",
       "      <td>0</td>\n",
       "    </tr>\n",
       "  </tbody>\n",
       "</table>\n",
       "</div>"
      ],
      "text/plain": [
       "     Pregnancies  Glucose  BloodPressure  SkinThickness  Insulin   BMI  \\\n",
       "418            1       83             68              0        0  18.2   \n",
       "373            2      105             58             40       94  34.9   \n",
       "508            2       84             50             23       76  30.4   \n",
       "233            4      122             68              0        0  35.0   \n",
       "501            3       84             72             32        0  37.2   \n",
       "\n",
       "     DiabetesPedigreeFunction  Age  Outcome  \n",
       "418                     0.624   27        0  \n",
       "373                     0.225   25        0  \n",
       "508                     0.968   21        0  \n",
       "233                     0.394   29        0  \n",
       "501                     0.267   28        0  "
      ]
     },
     "execution_count": 345,
     "metadata": {},
     "output_type": "execute_result"
    }
   ],
   "source": [
    "data.head()"
   ]
  },
  {
   "cell_type": "code",
   "execution_count": 346,
   "id": "70ea51f6",
   "metadata": {},
   "outputs": [
    {
     "data": {
      "text/html": [
       "<div>\n",
       "<style scoped>\n",
       "    .dataframe tbody tr th:only-of-type {\n",
       "        vertical-align: middle;\n",
       "    }\n",
       "\n",
       "    .dataframe tbody tr th {\n",
       "        vertical-align: top;\n",
       "    }\n",
       "\n",
       "    .dataframe thead th {\n",
       "        text-align: right;\n",
       "    }\n",
       "</style>\n",
       "<table border=\"1\" class=\"dataframe\">\n",
       "  <thead>\n",
       "    <tr style=\"text-align: right;\">\n",
       "      <th></th>\n",
       "      <th>Pregnancies</th>\n",
       "      <th>Glucose</th>\n",
       "      <th>BloodPressure</th>\n",
       "      <th>SkinThickness</th>\n",
       "      <th>Insulin</th>\n",
       "      <th>BMI</th>\n",
       "      <th>DiabetesPedigreeFunction</th>\n",
       "      <th>Age</th>\n",
       "      <th>Outcome</th>\n",
       "    </tr>\n",
       "  </thead>\n",
       "  <tbody>\n",
       "    <tr>\n",
       "      <th>755</th>\n",
       "      <td>1</td>\n",
       "      <td>128</td>\n",
       "      <td>88</td>\n",
       "      <td>39</td>\n",
       "      <td>110</td>\n",
       "      <td>36.5</td>\n",
       "      <td>1.057</td>\n",
       "      <td>37</td>\n",
       "      <td>1</td>\n",
       "    </tr>\n",
       "    <tr>\n",
       "      <th>757</th>\n",
       "      <td>0</td>\n",
       "      <td>123</td>\n",
       "      <td>72</td>\n",
       "      <td>0</td>\n",
       "      <td>0</td>\n",
       "      <td>36.3</td>\n",
       "      <td>0.258</td>\n",
       "      <td>52</td>\n",
       "      <td>1</td>\n",
       "    </tr>\n",
       "    <tr>\n",
       "      <th>759</th>\n",
       "      <td>6</td>\n",
       "      <td>190</td>\n",
       "      <td>92</td>\n",
       "      <td>0</td>\n",
       "      <td>0</td>\n",
       "      <td>35.5</td>\n",
       "      <td>0.278</td>\n",
       "      <td>66</td>\n",
       "      <td>1</td>\n",
       "    </tr>\n",
       "    <tr>\n",
       "      <th>761</th>\n",
       "      <td>9</td>\n",
       "      <td>170</td>\n",
       "      <td>74</td>\n",
       "      <td>31</td>\n",
       "      <td>0</td>\n",
       "      <td>44.0</td>\n",
       "      <td>0.403</td>\n",
       "      <td>43</td>\n",
       "      <td>1</td>\n",
       "    </tr>\n",
       "    <tr>\n",
       "      <th>766</th>\n",
       "      <td>1</td>\n",
       "      <td>126</td>\n",
       "      <td>60</td>\n",
       "      <td>0</td>\n",
       "      <td>0</td>\n",
       "      <td>30.1</td>\n",
       "      <td>0.349</td>\n",
       "      <td>47</td>\n",
       "      <td>1</td>\n",
       "    </tr>\n",
       "  </tbody>\n",
       "</table>\n",
       "</div>"
      ],
      "text/plain": [
       "     Pregnancies  Glucose  BloodPressure  SkinThickness  Insulin   BMI  \\\n",
       "755            1      128             88             39      110  36.5   \n",
       "757            0      123             72              0        0  36.3   \n",
       "759            6      190             92              0        0  35.5   \n",
       "761            9      170             74             31        0  44.0   \n",
       "766            1      126             60              0        0  30.1   \n",
       "\n",
       "     DiabetesPedigreeFunction  Age  Outcome  \n",
       "755                     1.057   37        1  \n",
       "757                     0.258   52        1  \n",
       "759                     0.278   66        1  \n",
       "761                     0.403   43        1  \n",
       "766                     0.349   47        1  "
      ]
     },
     "execution_count": 346,
     "metadata": {},
     "output_type": "execute_result"
    }
   ],
   "source": [
    "data.tail()"
   ]
  },
  {
   "cell_type": "code",
   "execution_count": 347,
   "id": "a39585be",
   "metadata": {},
   "outputs": [
    {
     "data": {
      "text/plain": [
       "Outcome\n",
       "0    268\n",
       "1    268\n",
       "Name: count, dtype: int64"
      ]
     },
     "execution_count": 347,
     "metadata": {},
     "output_type": "execute_result"
    }
   ],
   "source": [
    "data['Outcome'].value_counts()"
   ]
  },
  {
   "cell_type": "markdown",
   "id": "e5f5fe74",
   "metadata": {},
   "source": [
    "splitting of data into features and labels"
   ]
  },
  {
   "cell_type": "code",
   "execution_count": 348,
   "id": "8963af33",
   "metadata": {},
   "outputs": [],
   "source": [
    "X = data.drop('Outcome',axis=1)\n",
    "Y= data['Outcome']"
   ]
  },
  {
   "cell_type": "code",
   "execution_count": 349,
   "id": "31a311f0",
   "metadata": {},
   "outputs": [
    {
     "name": "stdout",
     "output_type": "stream",
     "text": [
      "     Pregnancies  Glucose  BloodPressure  SkinThickness  Insulin   BMI  \\\n",
      "418            1       83             68              0        0  18.2   \n",
      "373            2      105             58             40       94  34.9   \n",
      "508            2       84             50             23       76  30.4   \n",
      "233            4      122             68              0        0  35.0   \n",
      "501            3       84             72             32        0  37.2   \n",
      "..           ...      ...            ...            ...      ...   ...   \n",
      "755            1      128             88             39      110  36.5   \n",
      "757            0      123             72              0        0  36.3   \n",
      "759            6      190             92              0        0  35.5   \n",
      "761            9      170             74             31        0  44.0   \n",
      "766            1      126             60              0        0  30.1   \n",
      "\n",
      "     DiabetesPedigreeFunction  Age  \n",
      "418                     0.624   27  \n",
      "373                     0.225   25  \n",
      "508                     0.968   21  \n",
      "233                     0.394   29  \n",
      "501                     0.267   28  \n",
      "..                        ...  ...  \n",
      "755                     1.057   37  \n",
      "757                     0.258   52  \n",
      "759                     0.278   66  \n",
      "761                     0.403   43  \n",
      "766                     0.349   47  \n",
      "\n",
      "[536 rows x 8 columns]\n"
     ]
    }
   ],
   "source": [
    "print(X)"
   ]
  },
  {
   "cell_type": "code",
   "execution_count": 350,
   "id": "1b7e8921",
   "metadata": {},
   "outputs": [
    {
     "name": "stdout",
     "output_type": "stream",
     "text": [
      "418    0\n",
      "373    0\n",
      "508    0\n",
      "233    0\n",
      "501    0\n",
      "      ..\n",
      "755    1\n",
      "757    1\n",
      "759    1\n",
      "761    1\n",
      "766    1\n",
      "Name: Outcome, Length: 536, dtype: int64\n"
     ]
    }
   ],
   "source": [
    "print(Y)"
   ]
  },
  {
   "cell_type": "code",
   "execution_count": 351,
   "id": "347ea73e",
   "metadata": {},
   "outputs": [],
   "source": [
    "X = X.values\n",
    "Y= Y.values"
   ]
  },
  {
   "cell_type": "markdown",
   "id": "39ac77b5",
   "metadata": {},
   "source": [
    "splitting of test data and train data "
   ]
  },
  {
   "cell_type": "code",
   "execution_count": 352,
   "id": "d546e594",
   "metadata": {},
   "outputs": [],
   "source": [
    "X_train,X_test,Y_train,Y_test = train_test_split(X,Y,test_size=0.2,random_state=0,stratify=Y)"
   ]
  },
  {
   "cell_type": "code",
   "execution_count": 353,
   "id": "2c98834f",
   "metadata": {},
   "outputs": [
    {
     "name": "stdout",
     "output_type": "stream",
     "text": [
      "(536, 8) (428, 8) (108, 8)\n"
     ]
    }
   ],
   "source": [
    "print(X.shape,X_train.shape,X_test.shape)"
   ]
  },
  {
   "cell_type": "markdown",
   "id": "0e632c54",
   "metadata": {},
   "source": [
    "Sclarized the test data and train data "
   ]
  },
  {
   "cell_type": "code",
   "execution_count": 354,
   "id": "66d868e8",
   "metadata": {},
   "outputs": [],
   "source": [
    "ss = StandardScaler()\n",
    "\n",
    "train_X =ss.fit_transform(X_train)\n",
    "test_X = ss.transform(X_test)"
   ]
  },
  {
   "cell_type": "code",
   "execution_count": 355,
   "id": "7e08c1ba",
   "metadata": {},
   "outputs": [
    {
     "name": "stdout",
     "output_type": "stream",
     "text": [
      "[[ 0.49038141  0.2814262   0.53154084 ...  1.66564879 -0.67362112\n",
      "   1.00454687]\n",
      " [-0.9432473  -0.68856765 -0.18114493 ... -1.0777594   0.57981079\n",
      "  -0.74107254]\n",
      " [-0.36979582  0.11025081  0.42972859 ... -1.38123375 -0.58576374\n",
      "   1.7900756 ]\n",
      " ...\n",
      " [ 0.20365567 -0.40327534 -0.07933268 ... -0.78642401 -0.51547784\n",
      "  -0.39194866]\n",
      " [ 2.4974616  -0.57445073  0.12429183 ... -0.15519735 -0.00883364\n",
      "   0.30629911]\n",
      " [ 0.49038141 -0.74562611 -0.58839394 ...  0.18469393 -0.11133391\n",
      "   0.74270396]]\n"
     ]
    }
   ],
   "source": [
    "print(train_X)"
   ]
  },
  {
   "cell_type": "code",
   "execution_count": 356,
   "id": "d57e7261",
   "metadata": {},
   "outputs": [
    {
     "name": "stdout",
     "output_type": "stream",
     "text": [
      "[[ 7.77107149e-01  9.94656965e-01 -1.81144932e-01 -1.26732736e+00\n",
      "  -6.87269766e-01 -2.52309147e-01 -2.48977132e-01  1.31737166e-01]\n",
      " [-6.56521557e-01  2.07876773e+00  2.24795746e-02  4.79011143e+00\n",
      "  -6.87269766e-01  2.69666746e-01  3.13310080e-01  2.40104240e+00]\n",
      " [-3.69795816e-01 -1.17356457e+00 -5.88393944e-01  6.29446404e-01\n",
      "  -5.41810253e-01  2.21110849e-01 -3.86620356e-01 -8.28353509e-01]\n",
      " [-3.69795816e-01  1.33700773e+00  1.24291828e-01  7.51818905e-01\n",
      "   4.03676583e-01  9.97211063e-02 -7.87835710e-01 -9.15634479e-01]\n",
      " [-9.43247298e-01  1.59377081e+00 -3.54094928e+00 -1.26732736e+00\n",
      "  -6.87269766e-01  1.31361853e+00 -5.44763634e-01  5.68142018e-01]\n",
      " [ 1.06383289e+00  8.52010812e-01  4.29728587e-01  6.90632654e-01\n",
      "  -6.87269766e-01 -9.52966204e-03 -7.32623781e-02  9.17265899e-01]\n",
      " [ 4.90381408e-01  1.67935850e+00  1.24422661e+00 -1.26732736e+00\n",
      "  -6.87269766e-01  1.01014418e+00  2.90803128e+00  9.17265899e-01]\n",
      " [-1.22997304e+00  2.46631200e-02  1.34603886e+00 -1.26732736e+00\n",
      "  -6.87269766e-01 -1.21128811e+00 -6.03335219e-01 -1.17747739e+00]\n",
      " [-8.30700745e-02 -7.17096879e-01  3.27916334e-01 -3.49533604e-01\n",
      "  -2.75134479e-01 -1.12631529e+00 -7.17549809e-01 -1.17747739e+00]\n",
      " [ 2.03655667e-01 -2.32099957e-01  2.26104081e-01  5.07073903e-01\n",
      "  -6.87269766e-01 -2.16686363e-02  5.62239315e-01  4.44561952e-02]\n",
      " [ 1.35055863e+00  1.13730312e+00  7.35165346e-01  1.75838991e-02\n",
      "  -6.87269766e-01 -2.03753250e-01  1.06302636e+00 -2.17386716e-01]\n",
      " [-1.22997304e+00  1.50818312e+00 -4.86581691e-01  5.07073903e-01\n",
      "   3.17548842e+00  2.57527772e-01  1.76881396e+00 -1.17747739e+00]\n",
      " [-6.56521557e-01 -9.16801495e-01  3.27916334e-01 -4.36023514e-02\n",
      "  -6.87269766e-01 -1.00492555e+00  3.60210456e+00 -5.66510598e-01]\n",
      " [-1.22997304e+00  3.67013889e-01 -1.50470422e+00  8.74191406e-01\n",
      "   6.70352357e-01  1.28934058e+00  5.32996630e+00 -1.30105746e-01]\n",
      " [-6.56521557e-01 -1.17983034e-01  3.27916334e-01  9.96563906e-01\n",
      "   1.61244061e-01  8.76615459e-01 -7.40978443e-01 -4.79229627e-01]\n",
      " [ 2.03655667e-01  3.67013889e-01  1.95691238e+00 -1.26732736e+00\n",
      "  -6.87269766e-01  1.98126212e+00 -7.05835492e-01  2.19018136e-01]\n",
      " [ 2.03655667e-01  9.66127735e-01  2.24795746e-02 -1.26732736e+00\n",
      "  -6.87269766e-01 -3.25142993e-01 -7.64407077e-01  2.48832337e+00]\n",
      " [ 4.90381408e-01 -3.86611071e-03  1.24291828e-01 -1.26732736e+00\n",
      "  -6.87269766e-01 -5.92200427e-01 -2.92905820e-01 -4.79229627e-01]\n",
      " [ 7.77107149e-01  1.02318620e+00 -7.92018450e-01  6.90632654e-01\n",
      "   7.26919945e-01 -2.40170173e-01  3.51381610e-01  3.93580077e-01]\n",
      " [-9.43247298e-01  5.31923508e-02 -6.90206197e-01  5.07073903e-01\n",
      "   5.41055012e-01 -4.58671710e-01  9.75168987e-01 -1.17747739e+00]\n",
      " [-9.43247298e-01  4.52601581e-01  2.26104081e-01  3.23515151e-01\n",
      "   7.67325365e-01 -1.01706453e+00  1.05424063e+00 -1.00291545e+00]\n",
      " [-1.22997304e+00  1.85053389e+00  1.75328788e+00  2.62328901e-01\n",
      "  -6.87269766e-01  2.21110849e-01 -9.66910119e-02  5.68142018e-01]\n",
      " [ 2.03655667e-01 -3.46216880e-01 -1.81144932e-01 -1.26732736e+00\n",
      "  -6.87269766e-01  6.45974948e-01 -6.06263798e-01  5.68142018e-01]\n",
      " [-1.22997304e+00  3.95543120e-01 -3.54094928e+00 -1.26732736e+00\n",
      "  -6.87269766e-01  4.63890334e-01  1.36174145e+00 -8.28353509e-01]\n",
      " [ 1.06383289e+00 -4.60333803e-01  2.24795746e-02 -1.26732736e+00\n",
      "  -6.87269766e-01 -2.40170173e-01  1.42617019e+00 -1.30105746e-01]\n",
      " [ 1.06383289e+00  5.31923508e-02  2.26104081e-01  1.05775016e+00\n",
      "  -8.11884614e-02 -7.98562989e-01 -8.96193142e-01  3.93580077e-01]\n",
      " [-9.43247298e-01 -8.88272264e-01 -6.90206197e-01 -5.94278606e-01\n",
      "  -6.87269766e-01 -1.21128811e+00 -1.49405438e-01 -1.09019642e+00]\n",
      " [-1.22997304e+00  8.17215815e-02  5.31540840e-01  9.96563906e-01\n",
      "   1.00975789e+00  4.63890334e-01  9.83954724e-01 -1.00291545e+00]\n",
      " [-9.43247298e-01 -3.74746110e-01 -3.84769438e-01 -4.71906105e-01\n",
      "   7.83487534e-01 -1.02920350e+00 -9.66479044e-01 -1.00291545e+00]\n",
      " [-1.22997304e+00 -1.14503534e+00  6.33353093e-01  6.29446404e-01\n",
      "   3.22865742e-01  6.94530845e-01 -6.88264017e-01 -1.00291545e+00]\n",
      " [ 1.35055863e+00  5.95247735e-01  9.38789852e-01  8.13005155e-01\n",
      "   6.46109104e-01 -2.64448122e-01  8.87311610e-01  1.61551366e+00]\n",
      " [-1.22997304e+00  1.56524158e+00 -9.95642956e-01  9.35377656e-01\n",
      "   5.97622600e-01  6.45974948e-01 -3.81194273e-02 -1.09019642e+00]\n",
      " [-6.56521557e-01 -6.09245722e-02  2.24795746e-02  3.84701402e-01\n",
      "  -6.87269766e-01  5.24585206e-01 -3.74906039e-01 -6.53791568e-01]\n",
      " [-3.69795816e-01  1.90759235e+00 -7.93326785e-02 -3.49533604e-01\n",
      "   3.63271162e-01 -1.91614276e-01 -4.94977787e-01 -4.28247752e-02]\n",
      " [ 7.77107149e-01  6.52306196e-01  3.27916334e-01 -1.26732736e+00\n",
      "  -6.87269766e-01  8.40198536e-01 -6.17978115e-01  7.42703959e-01]\n",
      " [-1.22997304e+00  3.09955427e-01  1.24422661e+00  1.54724016e+00\n",
      "   4.84487423e-01  9.85866228e-01 -5.38906476e-01 -7.41072539e-01]\n",
      " [-1.22997304e+00  3.95543120e-01 -4.86581691e-01  8.74191406e-01\n",
      "   6.62271273e-01  2.57527772e-01  1.93238332e-01 -1.17747739e+00]\n",
      " [-3.69795816e-01 -3.74746110e-01  1.04060211e+00 -5.33092355e-01\n",
      "  -5.69452092e-02 -4.95088633e-01  7.90237419e-02 -4.79229627e-01]\n",
      " [-9.43247298e-01 -6.31509187e-01  2.26104081e-01 -1.26732736e+00\n",
      "  -6.87269766e-01  8.52337511e-01 -5.12549263e-01  6.55422988e-01]\n",
      " [ 4.90381408e-01  6.52306196e-01  5.31540840e-01 -1.26732736e+00\n",
      "  -6.87269766e-01 -3.61559916e-01 -8.49335874e-01  1.35367075e+00]\n",
      " [-6.56521557e-01 -7.17096879e-01  2.24795746e-02 -2.88347353e-01\n",
      "  -3.31702067e-01 -1.46620657e+00 -6.82406858e-01 -6.53791568e-01]\n",
      " [ 1.35055863e+00 -3.46216880e-01  6.33353093e-01  2.01142650e-01\n",
      "  -6.87269766e-01 -5.19366581e-01  2.38381560e+00  1.35367075e+00]\n",
      " [-3.69795816e-01  4.24072350e-01 -7.92018450e-01 -1.26732736e+00\n",
      "  -6.87269766e-01 -8.34979912e-01 -1.93334127e-01 -1.09019642e+00]\n",
      " [-6.56521557e-01  2.46631200e-02 -4.86581691e-01 -4.36023514e-02\n",
      "   4.44082003e-01  1.60415978e-01 -1.11290801e+00 -3.04667686e-01]\n",
      " [ 7.77107149e-01 -2.89158418e-01 -1.81144932e-01 -1.26732736e+00\n",
      "  -6.87269766e-01  3.90262350e-02 -6.15049536e-01  6.55422988e-01]\n",
      " [-9.43247298e-01 -9.16801495e-01 -3.84769438e-01  2.62328901e-01\n",
      "  -3.55945320e-01 -1.57545734e+00  4.09522119e-02 -8.28353509e-01]\n",
      " [ 4.90381408e-01  2.46631200e-02  4.29728587e-01  6.29446404e-01\n",
      "  -6.87269766e-01 -5.92200427e-01  2.84024288e-01  1.26638978e+00]\n",
      " [-3.69795816e-01  2.46631200e-02 -5.88393944e-01 -1.26732736e+00\n",
      "  -6.87269766e-01 -1.06641456e-01 -9.28407514e-01 -9.15634479e-01]\n",
      " [-8.30700745e-02  6.23776966e-01  7.86071472e-01  3.84701402e-01\n",
      "   1.20838640e-01 -4.34393761e-01 -8.17121503e-01 -6.53791568e-01]\n",
      " [-8.30700745e-02 -4.31804572e-01 -2.82957185e-01  1.42486766e+00\n",
      "   1.12757556e-01  2.81805720e-01  1.27974123e+00 -7.41072539e-01]\n",
      " [-3.69795816e-01  1.47965389e+00  8.36977599e-01  3.84701402e-01\n",
      "   5.73379348e-01  9.97211063e-02  2.00895746e+00  1.52823269e+00]\n",
      " [ 1.06383289e+00 -3.86611071e-03  3.27916334e-01  2.01142650e-01\n",
      "   4.16138067e+00 -4.58671710e-01  6.41310954e-01  1.52823269e+00]\n",
      " [-6.56521557e-01 -9.45330725e-01 -3.84769438e-01 -1.26732736e+00\n",
      "  -6.87269766e-01 -6.28617350e-01  1.66881119e-01 -1.09019642e+00]\n",
      " [-8.30700745e-02  9.66127735e-01  4.29728587e-01 -1.26732736e+00\n",
      "  -6.87269766e-01  5.11652093e-02  9.81026145e-01 -3.04667686e-01]\n",
      " [-3.69795816e-01 -3.74746110e-01 -5.88393944e-01  6.29446404e-01\n",
      "  -3.31702067e-01 -3.61559916e-01 -1.11333908e-01 -1.09019642e+00]\n",
      " [ 2.21073585e+00  7.66423119e-01  2.24795746e-02  1.18012266e+00\n",
      "   1.50270402e+00  1.13153392e+00  8.02382812e-01  3.06299106e-01]\n",
      " [-3.69795816e-01  1.38780043e-01  1.14241436e+00  1.73079891e+00\n",
      "   5.65298264e-01  4.76029309e-01  1.46424172e+00 -2.17386716e-01]\n",
      " [-8.30700745e-02  1.33700773e+00  1.24291828e-01 -1.26732736e+00\n",
      "  -6.87269766e-01  1.35003546e+00  3.21664742e-02 -7.41072539e-01]\n",
      " [-1.22997304e+00 -4.31804572e-01  9.38789852e-01  5.68260153e-01\n",
      "  -6.87269766e-01  2.60931223e-03  1.13331227e+00  3.06299106e-01]\n",
      " [-6.56521557e-01 -1.75041495e-01  5.31540840e-01 -1.26732736e+00\n",
      "  -6.87269766e-01  1.26506264e+00  6.58882430e-01 -1.17747739e+00]\n",
      " [-1.22997304e+00  1.56524158e+00  1.04060211e+00  3.84701402e-01\n",
      "  -6.87269766e-01  1.41073033e+00  6.38382375e-01 -1.00291545e+00]\n",
      " [ 2.49746160e+00  1.38780043e-01 -3.54094928e+00  5.68260153e-01\n",
      "  -6.87269766e-01  9.00893408e-01  2.95738605e-01  8.29984929e-01]\n",
      " [-1.22997304e+00  1.08024466e+00  3.27916334e-01  2.15910267e+00\n",
      "   1.20838640e-01  2.51537698e+00  8.52168659e-01 -8.28353509e-01]\n",
      " [-3.69795816e-01  9.66127735e-01  3.27916334e-01  9.35377656e-01\n",
      "   1.29259583e+00 -1.06641456e-01  1.12159795e+00 -5.66510598e-01]\n",
      " [ 1.63728437e+00  6.80835427e-01  7.35165346e-01  1.66961266e+00\n",
      "   1.22794716e+00  6.21697000e-01  1.56088483e+00  1.44095172e+00]\n",
      " [ 1.06383289e+00  1.47965389e+00  1.04060211e+00  8.13005155e-01\n",
      "   1.73705545e+00  1.48277003e-01 -2.97647655e-03  2.05191851e+00]\n",
      " [-8.30700745e-02  2.24367735e-01  8.36977599e-01  6.29446404e-01\n",
      "  -6.87269766e-01 -5.43644530e-01 -1.43548280e-01  2.48832337e+00]\n",
      " [ 1.35055863e+00 -1.48738611e+00  4.29728587e-01  2.62328901e-01\n",
      "  -6.87269766e-01 -1.06641456e-01 -5.50620793e-01  3.06299106e-01]\n",
      " [-3.69795816e-01 -6.09245722e-02  4.29728587e-01 -1.26732736e+00\n",
      "  -6.87269766e-01 -1.15059324e+00 -6.26763853e-01  4.80861047e-01]\n",
      " [-9.43247298e-01 -4.31804572e-01 -1.60651647e+00 -1.65974852e-01\n",
      "   2.82460322e-01 -1.13845427e+00 -1.78691230e-01 -7.41072539e-01]\n",
      " [ 2.49746160e+00 -5.17392264e-01  1.24291828e-01  2.03673016e+00\n",
      "  -6.87269766e-01  5.00307257e-01 -8.49335874e-01  9.17265899e-01]\n",
      " [-8.30700745e-02  1.67935850e+00 -3.54094928e+00 -1.26732736e+00\n",
      "  -6.87269766e-01 -4.95088633e-01 -7.49764180e-01  1.31737166e-01]\n",
      " [ 1.35055863e+00 -1.17983034e-01  1.24291828e-01  7.87701495e-02\n",
      "  -2.34729059e-01 -1.41765068e+00  7.76025599e-01  1.17910881e+00]\n",
      " [-9.43247298e-01 -9.73859956e-01 -3.84769438e-01 -1.65974852e-01\n",
      "  -2.10485806e-01 -8.95674783e-01  2.34281549e+00 -8.28353509e-01]\n",
      " [-6.56521557e-01 -5.45921495e-01  5.31540840e-01  1.48605391e+00\n",
      "   8.56217290e-01  1.48277003e-01  7.11596856e-01 -4.79229627e-01]\n",
      " [ 1.06383289e+00 -4.03275341e-01  3.27916334e-01 -1.26732736e+00\n",
      "  -6.87269766e-01 -5.67922478e-01 -6.76549700e-01  2.05191851e+00]\n",
      " [-6.56521557e-01 -3.46216880e-01 -1.81144932e-01  7.87701495e-02\n",
      "  -6.87269766e-01 -9.07813758e-01 -4.71549154e-01 -9.15634479e-01]\n",
      " [ 4.90381408e-01  5.66718504e-01  1.24291828e-01  3.84701402e-01\n",
      "   1.15521740e+00  1.72554952e-01 -6.23835274e-01  4.80861047e-01]\n",
      " [-9.43247298e-01 -9.73859956e-01 -7.93326785e-02 -7.77837357e-01\n",
      "  -6.87269766e-01 -9.68508629e-01  1.96210019e+00  1.31737166e-01]\n",
      " [-9.43247298e-01  4.24072350e-01 -3.84769438e-01  1.24130891e+00\n",
      "   3.19165059e+00  9.98005202e-01  1.99095490e-01 -1.17747739e+00]\n",
      " [-6.56521557e-01 -1.00238919e+00  1.04060211e+00  5.68260153e-01\n",
      "  -6.87269766e-01  1.23999055e-01 -5.15477842e-01  6.55422988e-01]\n",
      " [ 4.90381408e-01 -9.45330725e-01 -3.54094928e+00 -1.26732736e+00\n",
      "  -6.87269766e-01 -3.25142993e-01  9.65952173e-02 -3.04667686e-01]\n",
      " [-9.43247298e-01  1.10250812e-01  1.44785112e+00  1.24130891e+00\n",
      "  -2.18566891e-01 -5.80855591e-02  2.49803019e+00 -1.30105746e-01]\n",
      " [-8.30700745e-02 -7.74155341e-01 -4.86581691e-01  1.39956400e-01\n",
      "  -6.87269766e-01 -5.19366581e-01 -7.32623781e-02 -1.09019642e+00]\n",
      " [-1.22997304e+00  1.22289081e+00 -3.54094928e+00 -1.26732736e+00\n",
      "  -6.87269766e-01 -2.16686363e-02  1.08645500e+00 -3.91948657e-01]\n",
      " [-3.69795816e-01  9.66127735e-01  2.24795746e-02  5.68260153e-01\n",
      "   1.96332581e+00  3.66778540e-01 -3.63191722e-01  4.44561952e-02]\n",
      " [-6.56521557e-01 -6.31509187e-01  8.36977599e-01  9.35377656e-01\n",
      "   2.82460322e-01  1.58067597e+00 -9.98693415e-01 -1.00291545e+00]\n",
      " [ 1.63728437e+00  1.05171543e+00 -7.93326785e-02  1.39956400e-01\n",
      "   3.79433330e-01 -8.47118886e-01 -4.15906148e-01  1.09182784e+00]\n",
      " [-3.69795816e-01 -3.23953415e-02  1.54966337e+00  8.74191406e-01\n",
      "   1.25219041e+00  3.01307493e+00  1.20652675e+00 -1.09019642e+00]\n",
      " [-1.22997304e+00  6.23776966e-01  2.24795746e-02 -1.26732736e+00\n",
      "  -6.87269766e-01  6.58113922e-01 -3.92477514e-01 -5.66510598e-01]\n",
      " [-8.30700745e-02  8.17215815e-02  9.38789852e-01 -5.94278606e-01\n",
      "   5.65298264e-01  2.45388798e-01  3.80667403e-01 -5.66510598e-01]\n",
      " [-8.30700745e-02 -9.16801495e-01  5.31540840e-01 -1.26732736e+00\n",
      "  -6.87269766e-01  1.18008982e+00 -6.76549700e-01 -4.79229627e-01]\n",
      " [ 2.49746160e+00  8.23481581e-01  9.38789852e-01  9.96563906e-01\n",
      "   4.44082003e-01  9.85866228e-01  2.06752904e+00  3.93580077e-01]\n",
      " [-1.22997304e+00  5.31923508e-02  7.35165346e-01  5.07073903e-01\n",
      "   1.05016331e+00 -2.15892225e-01  1.52238223e-01 -9.15634479e-01]\n",
      " [ 2.03655667e-01 -3.86611071e-03  2.26104081e-01 -1.26732736e+00\n",
      "  -6.87269766e-01  1.84693926e-01 -7.26335547e-01  3.06299106e-01]\n",
      " [ 2.49746160e+00 -5.17392264e-01  2.24795746e-02 -1.26732736e+00\n",
      "  -6.87269766e-01  2.08971875e-01 -6.35549590e-01  1.52823269e+00]\n",
      " [-6.56521557e-01  9.66127735e-01  1.04060211e+00 -1.26732736e+00\n",
      "  -6.87269766e-01 -1.06641456e-01  9.86883303e-01  2.75016628e+00]\n",
      " [-1.22997304e+00 -4.88863033e-01  3.27916334e-01 -1.26732736e+00\n",
      "  -6.87269766e-01  1.55639802e+00  6.38382375e-01 -9.15634479e-01]\n",
      " [-1.22997304e+00 -1.46512264e-01 -2.82957185e-01 -1.65974852e-01\n",
      "   5.61899677e-02  2.93944695e-01  7.52596965e-01 -1.00291545e+00]\n",
      " [-1.22997304e+00  1.95838505e-01 -1.81144932e-01  1.18012266e+00\n",
      "  -6.87269766e-01  2.21110849e-01 -7.96621448e-01 -1.09019642e+00]\n",
      " [-1.22997304e+00 -1.75041495e-01 -2.82957185e-01  1.39956400e-01\n",
      "   3.19467155e-02 -3.94255732e+00  3.69874767e+00 -1.17747739e+00]\n",
      " [-9.43247298e-01  1.10250812e-01 -1.09745521e+00  1.48605391e+00\n",
      "   8.80460542e-01  9.73727253e-01  4.24596091e-01 -9.15634479e-01]\n",
      " [-8.30700745e-02  1.10250812e-01  2.24795746e-02 -1.26732736e+00\n",
      "  -6.87269766e-01  2.21110849e-01 -4.83263470e-01 -9.15634479e-01]\n",
      " [ 1.06383289e+00 -5.45921495e-01  1.54966337e+00  9.35377656e-01\n",
      "  -6.87269766e-01  1.31361853e+00 -6.70692541e-01  9.17265899e-01]\n",
      " [-6.56521557e-01 -5.17392264e-01 -2.82957185e-01  8.74191406e-01\n",
      "   2.74379237e-01 -2.40170173e-01  2.72938795e+00 -4.28247752e-02]\n",
      " [ 2.49746160e+00 -1.37326919e+00 -4.86581691e-01 -1.26732736e+00\n",
      "  -6.87269766e-01  3.90262350e-02 -8.43478716e-01  5.68142018e-01]\n",
      " [-9.43247298e-01  5.66718504e-01  6.33353093e-01  1.18012266e+00\n",
      "  -6.87269766e-01  1.07083905e+00  4.07024616e-01 -5.66510598e-01]\n",
      " [-9.43247298e-01 -1.28768149e+00  5.31540840e-01  2.62328901e-01\n",
      "  -3.88269656e-01 -8.59257861e-01  3.36738714e-01 -1.09019642e+00]]\n"
     ]
    }
   ],
   "source": [
    "print(test_X)"
   ]
  },
  {
   "cell_type": "markdown",
   "id": "0ce634fa",
   "metadata": {},
   "source": [
    "Model training"
   ]
  },
  {
   "cell_type": "code",
   "execution_count": 357,
   "id": "757a2a2e",
   "metadata": {},
   "outputs": [],
   "source": [
    "model = SigmoidPerceptron(input_size=train_X.shape[1])"
   ]
  },
  {
   "cell_type": "code",
   "execution_count": 358,
   "id": "9bee69b7",
   "metadata": {},
   "outputs": [],
   "source": [
    "model.fit(inputs=train_X,targets=Y_train,learning_rate=0.05,num_epochs=100)"
   ]
  },
  {
   "cell_type": "markdown",
   "id": "a9dfa1aa",
   "metadata": {},
   "source": [
    "Model Evaluation"
   ]
  },
  {
   "cell_type": "code",
   "execution_count": 359,
   "id": "dfd75f13",
   "metadata": {},
   "outputs": [
    {
     "name": "stdout",
     "output_type": "stream",
     "text": [
      "The Training Accuracy of the Model is :  75.0\n"
     ]
    }
   ],
   "source": [
    "train_accuracy = model.evaluate(train_X,Y_train)\n",
    "train_accuracy = round(train_accuracy,2) *100\n",
    "print('The Training Accuracy of the Model is : ',train_accuracy)"
   ]
  },
  {
   "cell_type": "code",
   "execution_count": 360,
   "id": "bb12a79b",
   "metadata": {},
   "outputs": [
    {
     "name": "stdout",
     "output_type": "stream",
     "text": [
      "The test data Accuracy of the Model is :  77.0\n"
     ]
    }
   ],
   "source": [
    "test_accuracy = model.evaluate(test_X,Y_test)\n",
    "test_accuracy= round(test_accuracy,2)*100\n",
    "print('The test data Accuracy of the Model is : ',test_accuracy)"
   ]
  }
 ],
 "metadata": {
  "kernelspec": {
   "display_name": "base",
   "language": "python",
   "name": "python3"
  },
  "language_info": {
   "codemirror_mode": {
    "name": "ipython",
    "version": 3
   },
   "file_extension": ".py",
   "mimetype": "text/x-python",
   "name": "python",
   "nbconvert_exporter": "python",
   "pygments_lexer": "ipython3",
   "version": "3.12.4"
  }
 },
 "nbformat": 4,
 "nbformat_minor": 5
}
